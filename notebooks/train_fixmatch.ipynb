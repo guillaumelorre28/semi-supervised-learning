{
 "cells": [
  {
   "cell_type": "code",
   "execution_count": 3,
   "metadata": {},
   "outputs": [
    {
     "ename": "SyntaxError",
     "evalue": "invalid syntax (dataset_builder.py, line 7)",
     "traceback": [
      "\u001b[0;36m  File \u001b[0;32m\"/home/guillaume/Code/fixmatch/fixmatch/data/dataset_builder.py\"\u001b[0;36m, line \u001b[0;32m7\u001b[0m\n\u001b[0;31m    dataset_sup, info = tfds.load(dataset_name, split=f\"train[:{percentage_sup}%]\", with_info= True,\u001b[0m\n\u001b[0m                                                                                 ^\u001b[0m\n\u001b[0;31mSyntaxError\u001b[0m\u001b[0;31m:\u001b[0m invalid syntax\n"
     ],
     "output_type": "error"
    }
   ],
   "source": [
    "import tensorflow as tf\n",
    "# import tensorflow_addons as tfa\n",
    "import json\n",
    "import os\n",
    "\n",
    "from fixmatch.data.dataset_builder import dataset_builder_semisup\n",
    "from fixmatch.data.transform import create_unsupervised_dataset, create_supervised_dataset\n",
    "from fixmatch.networks.wide_resnet import WideResNet\n",
    "from fixmatch.models import fixmatch\n",
    "from fixmatch.training.learning_rate_scheduler import learning_rate_scheduler\n",
    "from fixmatch.training.optimizer_builder import optimizer_builder\n"
   ]
  },
  {
   "cell_type": "code",
   "execution_count": 3,
   "metadata": {},
   "outputs": [],
   "source": []
  },
  {
   "cell_type": "code",
   "execution_count": null,
   "metadata": {},
   "outputs": [],
   "source": []
  }
 ],
 "metadata": {},
 "nbformat": 4,
 "nbformat_minor": 0
}
